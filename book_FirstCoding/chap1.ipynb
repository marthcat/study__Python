{
 "cells": [
  {
   "cell_type": "markdown",
   "metadata": {},
   "source": [
    "# DoIt 첫코딩 파이썬 - Chap1"
   ]
  },
  {
   "cell_type": "markdown",
   "metadata": {},
   "source": [
    "# Bit\n",
    "## 컴퓨터의 언어 bit\n",
    "- bit : 0 과 1을 가지는 가장 작은 정보 단위\n",
    "- code : bit의 조합과 약속 > 조합에 따라 더 많은 의미를 만들 수 있다.\n",
    "- Byte : (=8bit) 영어를 위한 bit 묶음 단위 > ASCII 한 글자(영어/숫자/기호)\n",
    "- Byte 이후로는 1024 배 차이 \n",
    "  - B(yte) > KB > MB > GB > TB ...\n",
    "\n",
    "## Encoding , Decoding\n",
    "- Encoding : 언어를 특정 코드화 하는것 (예 / 사람의 언어를 컴퓨터의 언어로 변환도 해당)\n",
    "- Decoding : 코드를 인코딩전 언어로 복구하는 것. (예 / 컴퓨터의 언어를 사람의 언어로 변환)\n",
    "\n",
    "## ASKII\n",
    "- 예\n",
    "  - ) : 0010 1001\n",
    "  - \\* : 0010 1010\n",
    "  - A : 0100 0001\n",
    "  - B : 0100 0010\n",
    "  - a : 0110 0001\n",
    "  - b : 0110 0010\n",
    "\n",
    "## UNICODE (2Byte)\n",
    "- 영어 외의 문자를 담기에는 1Byte 공간으로 부족하여 만들어짐\n",
    "- 예\n",
    "  - ) : 00000 0000 0010 1001\n",
    "  - \\* : 00000 0000 0010 1010\n",
    "  - A : 00000 0000 0100 0001\n",
    "  - B : 00000 0000 0100 0010\n",
    "  - a : 00000 0000 0110 0001\n",
    "  - b : 00000 0000 0110 0010\n",
    "  - 가 : 1010 1100 0000 0000\n",
    "  - 각 : 1010 1100 0000 0001\n",
    "\n",
    "- 유니코드 전달 방식\n",
    "  - UTF16\n",
    "  - UTF8\n"
   ]
  },
  {
   "cell_type": "markdown",
   "metadata": {},
   "source": [
    "# 컴퓨터 언어?\n",
    "## 컴퓨터에게 어떻게 명령을 내리는가?\n",
    "- 컴퓨터는 기계어를 알아 듣는다. (0,1 bit 반복)\n",
    "- 사람이 기계어를 쓰는것은 너무 어렵다\n",
    "- 사람은 프로그래밍 언어를 사용, 기계어로 번역해 컴퓨터에 명령을 내린다.\n",
    "\n",
    "## 컴파일러\n",
    "- 컴파일 : 어떤 언어의 코드 전체를 다른 언어로 바꿔주는 과정\n",
    "- 컴파일러 : 자동으로 컴파일 하는 프로그램\n",
    "- 주로 사람이 쓰는언어(고 수준 언어)를 기계어(저 수준 언어)로 번역하는 프로그램을 일컫는다.\n",
    "- 기타) 어셈블러 : 어셈블리어를 기계어로 번역하는 프로그램\n",
    "\n",
    "## 인터프리터 \n",
    "- 코드를 한줄씩 읽어 실행하는 프로그램.\n",
    "\n",
    "## 프로그램 언어 종류\n",
    "- 일반 프로그램 언어\n",
    "  - 종류 : C, C++, C#, Java ....\n",
    "- 스크립트 언어\n",
    "  - 종류 : 파이썬, 자바 스크립트, PHP, JSP, Lua, RUBY ...\n",
    "- 프로그래밍 언어 가 아님\n",
    "  - 마크업 언어 : html, xml, 마크다운\n",
    "  "
   ]
  },
  {
   "cell_type": "code",
   "execution_count": 11,
   "metadata": {},
   "outputs": [
    {
     "name": "stdout",
     "output_type": "stream",
     "text": [
      "첫 코딩\n",
      "첫 코딩\n",
      "첫 '코딩'입니다!\n"
     ]
    }
   ],
   "source": [
    "print('첫 코딩')\n",
    "print(\"첫 코딩\")\n",
    "print(\"첫 '코딩'입니다!\")"
   ]
  },
  {
   "cell_type": "markdown",
   "metadata": {},
   "source": [
    "# 파이썬 기호 설명"
   ]
  },
  {
   "cell_type": "code",
   "execution_count": 15,
   "metadata": {},
   "outputs": [
    {
     "data": {
      "text/plain": [
       "True"
      ]
     },
     "execution_count": 15,
     "metadata": {},
     "output_type": "execute_result"
    }
   ],
   "source": [
    "# # . (온점)\n",
    "#   - 폴더 경로에서 : 현재 작업위치 경로(.) , 상위 경로(..)\n",
    "#   - 코드 구분에서 : 단계 구분 >>  os.path.dirname() => os 안의 path 안의 exists('.') 함수\n",
    "\n",
    "import os \n",
    "os.path.exists('.')"
   ]
  },
  {
   "cell_type": "code",
   "execution_count": 19,
   "metadata": {},
   "outputs": [
    {
     "name": "stdout",
     "output_type": "stream",
     "text": [
      "[333, 4444]\n"
     ]
    }
   ],
   "source": [
    "# # : (쌍점)\n",
    "#   - 부연 설명 (함수에서는 내용 시작)\n",
    "def func1() :\n",
    "  print(\"함수입니다.\")\n",
    "\n",
    "#   - 열거형에서의 범위 \n",
    "list1 = [1,22,333,4444,55555,666666]\n",
    "print(list1[2:4])\n"
   ]
  },
  {
   "cell_type": "code",
   "execution_count": 21,
   "metadata": {},
   "outputs": [
    {
     "name": "stdout",
     "output_type": "stream",
     "text": [
      "12345\n",
      "True\n"
     ]
    }
   ],
   "source": [
    "# # = (등호)\n",
    "#   - 오른쪽 값을 왼쪽으로 할당\n",
    "val1 = 12345\n",
    "print(val1)\n",
    "\n",
    "#   - 값의 비교 (==)\n",
    "print(val1 == 12345)\n"
   ]
  },
  {
   "cell_type": "markdown",
   "metadata": {},
   "source": [
    "## 2진 16진 문자\n",
    "|    2진    | 16진 | 문자(ASKII) |\n",
    "|-----------|------|------------|\n",
    "| 0110 1011 |  6B  |      k     |\n",
    "| 0110 1100 |  6C  |      l     |"
   ]
  }
 ],
 "metadata": {
  "kernelspec": {
   "display_name": "Python 3.10.4 32-bit",
   "language": "python",
   "name": "python3"
  },
  "language_info": {
   "codemirror_mode": {
    "name": "ipython",
    "version": 3
   },
   "file_extension": ".py",
   "mimetype": "text/x-python",
   "name": "python",
   "nbconvert_exporter": "python",
   "pygments_lexer": "ipython3",
   "version": "3.10.4"
  },
  "orig_nbformat": 4,
  "vscode": {
   "interpreter": {
    "hash": "39a0033470c94ca9ee8de4d83c2bd1a91ce04aa0435c2d966ba716d572295f9b"
   }
  }
 },
 "nbformat": 4,
 "nbformat_minor": 2
}
