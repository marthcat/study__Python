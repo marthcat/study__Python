{
 "cells": [
  {
   "cell_type": "markdown",
   "metadata": {},
   "source": [
    "# 컴퓨터가 기억하는 방법\n",
    "### 변수\n",
    "- 변수란?\n",
    "  - 자료형 값을 저장 하는 공간\n",
    "- 자료형 종류\n",
    "  - NoneType : 형이 없음\n",
    "  - bool : 논리형 (True/False)\n",
    "  - 숫자형\n",
    "    - int : 정수\n",
    "    - float : 실수\n",
    "    - complex : 복소수  \n",
    "  - str : 문자형\n",
    "  - list : 값의 목록 or 집합\n",
    "  - tuple : 값의 목록 or 집합. 리스트와 달리 처음 생성 이후 값의 생성, 삭제, 수정이 불가능하다.\n",
    "  - dict : 키와 값으로 이루어진 집합\n",
    "  - function : 함수 주소형\n"
   ]
  },
  {
   "cell_type": "code",
   "execution_count": 10,
   "metadata": {},
   "outputs": [
    {
     "name": "stdout",
     "output_type": "stream",
     "text": [
      "<class 'NoneType'>\n",
      "<class 'int'>\n",
      "<class 'float'>\n",
      "<class 'bool'>\n"
     ]
    },
    {
     "ename": "NameError",
     "evalue": "name 'vList' is not defined",
     "output_type": "error",
     "traceback": [
      "\u001b[1;31m---------------------------------------------------------------------------\u001b[0m",
      "\u001b[1;31mNameError\u001b[0m                                 Traceback (most recent call last)",
      "\u001b[1;32md:\\제출용\\_port_\\py\\study__Python\\book_FirstCoding\\chap2.ipynb Cell 2'\u001b[0m in \u001b[0;36m<cell line: 19>\u001b[1;34m()\u001b[0m\n\u001b[0;32m     <a href='vscode-notebook-cell:/d%3A/%EC%A0%9C%EC%B6%9C%EC%9A%A9/_port_/py/study__Python/book_FirstCoding/chap2.ipynb#ch0000000?line=15'>16</a>\u001b[0m \u001b[39mprint\u001b[39m(\u001b[39mtype\u001b[39m(vBoolean))\n\u001b[0;32m     <a href='vscode-notebook-cell:/d%3A/%EC%A0%9C%EC%B6%9C%EC%9A%A9/_port_/py/study__Python/book_FirstCoding/chap2.ipynb#ch0000000?line=17'>18</a>\u001b[0m \u001b[39m# String (문자열 형)\u001b[39;00m\n\u001b[1;32m---> <a href='vscode-notebook-cell:/d%3A/%EC%A0%9C%EC%B6%9C%EC%9A%A9/_port_/py/study__Python/book_FirstCoding/chap2.ipynb#ch0000000?line=18'>19</a>\u001b[0m vList\n",
      "\u001b[1;31mNameError\u001b[0m: name 'vList' is not defined"
     ]
    }
   ],
   "source": [
    "### 변수 선언하기 \n",
    "# NoneType\n",
    "vNone= None\n",
    "print(type(vNone))\n",
    "\n",
    "# Integer (정수형)\n",
    "vInteger = 123\n",
    "print(type(vInteger))\n",
    "\n",
    "# Float (실수형)\n",
    "vFloat = 123.0\n",
    "print(type(vFloat))\n",
    "\n",
    "# Boolean (논리형 : True/False)\n",
    "vBoolean = False\n",
    "print(type(vBoolean))\n",
    "\n",
    "# String (문자열 형)\n",
    "vString = '테스트'\n",
    "print(type(vString))"
   ]
  }
 ],
 "metadata": {
  "kernelspec": {
   "display_name": "Python 3.10.4 32-bit",
   "language": "python",
   "name": "python3"
  },
  "language_info": {
   "codemirror_mode": {
    "name": "ipython",
    "version": 3
   },
   "file_extension": ".py",
   "mimetype": "text/x-python",
   "name": "python",
   "nbconvert_exporter": "python",
   "pygments_lexer": "ipython3",
   "version": "3.10.4"
  },
  "orig_nbformat": 4,
  "vscode": {
   "interpreter": {
    "hash": "39a0033470c94ca9ee8de4d83c2bd1a91ce04aa0435c2d966ba716d572295f9b"
   }
  }
 },
 "nbformat": 4,
 "nbformat_minor": 2
}
