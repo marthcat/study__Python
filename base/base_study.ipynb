{
 "cells": [
  {
   "cell_type": "markdown",
   "metadata": {},
   "source": [
    "##### 우선 테스트를 위해 콘솔창 출력 방법을 확인한다."
   ]
  },
  {
   "cell_type": "code",
   "execution_count": 26,
   "metadata": {},
   "outputs": [
    {
     "name": "stdout",
     "output_type": "stream",
     "text": [
      "Hello World! \n",
      "Hello World! \n",
      "Hello World! \n",
      "\n",
      "------\n",
      "\n",
      "Hello World!123\n",
      "1122\n",
      "Hello World! 123\n"
     ]
    }
   ],
   "source": [
    "## 콘솔 출력 print 함수\n",
    "print(\"Hello World! \") # end=\"\\n\" 설정은 Default, \"\\n\" : 개행 문자\n",
    "print(\"Hello World! \", end=\"\\n\") \n",
    "print(\"Hello World! \", end=\"\") # 개행 제거\n",
    "\n",
    "print(\"\\n\\n------\\n\")\n",
    "print(\"Hello World!\" + \"123\")  ## 문자열 끼리 더하(+)면 두 값이 연결된 결과로 출력된다.\n",
    "print(999 + 123 ) ## 숫자형은 그냥 더하는 연산을 진행한다.\n",
    "#print(\"Hello World!\" + 123) ## 오류 : 숫자형 문자형은 서로 더할(+) 수 없다.\n",
    "print(\"Hello World!\", 123)  ## 문자형으로 변환되고 사마다 space 문자를 추가, 연결하여 출력한다."
   ]
  },
  {
   "cell_type": "markdown",
   "metadata": {},
   "source": [
    "# \\* **변수** \\*"
   ]
  },
  {
   "cell_type": "code",
   "execution_count": 27,
   "metadata": {},
   "outputs": [
    {
     "name": "stdout",
     "output_type": "stream",
     "text": [
      "---------------------------------\n",
      "<class 'bool'>  :  False\n",
      "---------------------------------\n",
      "<class 'int'>  :  1\n",
      "<class 'float'>  :  2.2\n",
      "---------------------------------\n",
      "<class 'str'>  :  three\n",
      "---------------------------------\n",
      "<class 'list'>  :  ['a', 'b', 'c']\n",
      "<class 'tuple'>  :  ('d', 'e', 'f')\n",
      "<class 'dict'>  :  {'A': '에이', 'B': '비', 'C': '씨'}\n",
      "<class 'set'>  :  {'H', 'D', 'E', 'F', 'G'}\n"
     ]
    }
   ],
   "source": [
    "## 변수 선언 & 주로 쓰는 자료형 (Value Type)\n",
    "### 논리형\n",
    "print(\"---------------------------------\")\n",
    "bool_0 = False # True/False 만 가능하다.\n",
    "print(type(bool_0), \" : \", bool_0)\n",
    "\n",
    "### 숫자형\n",
    "print(\"---------------------------------\")\n",
    "int_1 = 1   # 정수\n",
    "print(type(int_1), \" : \", int_1)\n",
    "float_2 = 2.2   # 실수\n",
    "print(type(float_2), \" : \", float_2)\n",
    "\n",
    "### 문자형\n",
    "print(\"---------------------------------\")\n",
    "string_3 = \"three\"   # 문자열\n",
    "print(type(string_3), \" : \", string_3)\n",
    "\n",
    "### 열거형 또는 집합\n",
    "print(\"---------------------------------\")\n",
    "list_4 = [\"a\",\"b\",\"c\"]   # 리스트\n",
    "print(type(list_4), \" : \", list_4)\n",
    "tuple_5 = (\"d\", \"e\", \"f\")   # 튜플\n",
    "print(type(tuple_5), \" : \", tuple_5)\n",
    "dict_6 = {\"A\":\"에이\",\"B\":\"비\",\"C\":\"씨\",}  # 딕셔너리\n",
    "print(type(dict_6), \" : \", dict_6)\n",
    "set_7 = set([\"D\",\"E\",\"F\",\"G\",\"H\"]) # Set(집합)형  집합연산에서 사용한다. (교집합, 합집합등...)\n",
    "print(type(set_7), \" : \", set_7)\n",
    "\n",
    "  "
   ]
  },
  {
   "cell_type": "markdown",
   "metadata": {},
   "source": [
    "#### 숫자형 관련 설명\n"
   ]
  },
  {
   "cell_type": "code",
   "execution_count": null,
   "metadata": {},
   "outputs": [],
   "source": [
    "## 연산자\n",
    "print(10 +  4) # 더하기\n",
    "print(10 -  4) # 빼기\n",
    "print(10 *  4) # 곱하기\n",
    "print(10 ** 4) # 제곱 \n",
    "print(10 /  4) # 나눗셈 (float 타입으로 출력)\n",
    "print(10 // 4) # 나눗셈의 몪(나누는 대상 타입으로)\n",
    "print(10 %  4) # 나눗셈의 나머지(나누는 대상 타입으로)"
   ]
  },
  {
   "cell_type": "code",
   "execution_count": null,
   "metadata": {},
   "outputs": [],
   "source": [
    "import math \n",
    "\n",
    "## 내부 모듈 : 반올림\n",
    "print(\"--------\")\n",
    "print(round(3.4444))  # <int>\n",
    "print(round(3.4444,1)) # 소숫점 1재자리까지 출력 : <float>\n",
    "\n",
    "## 올림 : math 외부모듈 \n",
    "print(\"--------\")\n",
    "print(math.ceil(-3.44)) # <int>\n",
    "print(math.ceil(3.44)) # <int>\n",
    "\n",
    "## 내림 : math 외부모듈\n",
    "print(\"--------\")\n",
    "print(math.trunc(3.54)) \n",
    "print(math.trunc(-3.54))\n",
    "print(math.floor(3.54))\n",
    "print(math.floor(-3.54))\n",
    "\n",
    "# 내부모듈 int 형변환은 trunc 내림과 동일한 효과를 낸다\n",
    "print(\"--------\")\n",
    "print(int(3.44))\n",
    "print(int(-3.44))"
   ]
  },
  {
   "cell_type": "markdown",
   "metadata": {},
   "source": [
    "#### 문자열 관련"
   ]
  },
  {
   "cell_type": "code",
   "execution_count": null,
   "metadata": {},
   "outputs": [],
   "source": [
    "## 문자열의 이스케이프 문\n",
    "print(\"_   _\\\"\\\"\\\"\\\"_   _\")\n",
    "print(\"_   _\\'\\'\\'_   _\")\n",
    "print(\"_   _\\n\\n\\n_   _\")\n",
    "print(\"_   _\\t\\t\\t_   _\") \n",
    "print(\"_   _\\\\\\\\\\\\_   _\") "
   ]
  },
  {
   "cell_type": "markdown",
   "metadata": {},
   "source": [
    "#### 여러 자료형 간의 차이"
   ]
  },
  {
   "cell_type": "code",
   "execution_count": null,
   "metadata": {},
   "outputs": [],
   "source": [
    "## 형변환 : 형변환이 가능한 변수 타입을 변경한다.\n",
    "### -- 숫자형 및 문자형 --\n",
    "#### int(...) : 정수형(int)으로\n",
    "print(type(int(3.0)), \", \", type(int(\"3\")))\n",
    "print(type(int(3.022))) # 버림\n",
    "\n",
    "#### float(...) : 실수형(float)으로\n",
    "print(type(int(3.0)), \", \", type(int(\"3\")))\n",
    "\n",
    "### str(...) : 문자열(str) 형으로\n",
    "print(type(str(3.0123)), \", \", type(str(3)))"
   ]
  },
  {
   "cell_type": "code",
   "execution_count": 20,
   "metadata": {},
   "outputs": [
    {
     "name": "stdout",
     "output_type": "stream",
     "text": [
      "357.0\n"
     ]
    }
   ],
   "source": [
    "## 숫자형과 문자열 간  + 기호 역할\n",
    "#### \n",
    "print(123 + 234.0) # int +"
   ]
  }
 ],
 "metadata": {
  "kernelspec": {
   "display_name": "Python 3.10.4 32-bit",
   "language": "python",
   "name": "python3"
  },
  "language_info": {
   "codemirror_mode": {
    "name": "ipython",
    "version": 3
   },
   "file_extension": ".py",
   "mimetype": "text/x-python",
   "name": "python",
   "nbconvert_exporter": "python",
   "pygments_lexer": "ipython3",
   "version": "3.10.4"
  },
  "orig_nbformat": 4,
  "vscode": {
   "interpreter": {
    "hash": "39a0033470c94ca9ee8de4d83c2bd1a91ce04aa0435c2d966ba716d572295f9b"
   }
  }
 },
 "nbformat": 4,
 "nbformat_minor": 2
}
