{
 "cells": [
  {
   "cell_type": "markdown",
   "metadata": {},
   "source": [
    "##### 우선 테스트를 위해 콘솔창 출력 방법을 확인한다."
   ]
  },
  {
   "cell_type": "code",
   "execution_count": null,
   "metadata": {},
   "outputs": [],
   "source": [
    "## 콘솔 출력 print 함수\n",
    "print(\"Hello World! \") # end=\"\\n\" 설정은 Default, \"\\n\" : 개행 문자\n",
    "print(\"Hello World! \", end=\"\\n\") \n",
    "print(\"Hello World! \", end=\"\") # 개행 제거\n",
    "\n",
    "print(\"\\n\\n------\\n\")\n",
    "print(\"Hello World!\" + \"123\")  ## 문자열 끼리 더하(+)면 두 값이 연결된 결과로 출력된다.\n",
    "print(999 + 123 ) ## 숫자형은 그냥 더하는 연산을 진행한다.\n",
    "#print(\"Hello World!\" + 123) ## 오류 : 숫자형 문자형은 서로 더할(+) 수 없다.\n",
    "print(\"Hello World!\", 123)  ## ','는 각 인자를 문자형으로 변환하고, 문자 순서 사이를 space 문자로 연결하여 출력한다."
   ]
  },
  {
   "cell_type": "markdown",
   "metadata": {},
   "source": [
    "# \\* **변수** \\*"
   ]
  },
  {
   "cell_type": "markdown",
   "metadata": {},
   "source": [
    "#### 변수 선언 : 자료형?"
   ]
  },
  {
   "cell_type": "code",
   "execution_count": null,
   "metadata": {},
   "outputs": [],
   "source": [
    "## 변수 선언 & 주로 쓰는 자료형 (Value Type)\n",
    "### 논리형\n",
    "print(\"---------------------------------\")\n",
    "bool_0 = False # True/False 만 가능하다.\n",
    "print(type(bool_0), \" : \", bool_0)\n",
    "\n",
    "### 숫자형\n",
    "print(\"---------------------------------\")\n",
    "int_1 = 1   # 정수\n",
    "print(type(int_1), \" : \", int_1)\n",
    "float_2 = 2.2   # 실수\n",
    "print(type(float_2), \" : \", float_2)\n",
    "\n",
    "### 문자형\n",
    "print(\"---------------------------------\")\n",
    "string_3 = \"three\"   # 문자열\n",
    "print(type(string_3), \" : \", string_3)\n",
    "\n",
    "### 열거형 또는 집합\n",
    "print(\"---------------------------------\")\n",
    "list_4 = [\"a\",\"b\",\"c\"]   # 리스트\n",
    "print(type(list_4), \" : \", list_4)\n",
    "tuple_5 = (\"d\", \"e\", \"f\")   # 튜플\n",
    "print(type(tuple_5), \" : \", tuple_5)\n",
    "dict_6 = {\"A\":\"에이\",\"B\":\"비\",\"C\":\"씨\",}  # 딕셔너리\n",
    "print(type(dict_6), \" : \", dict_6)\n",
    "set_7 = set([\"D\",\"E\",\"F\",\"G\",\"H\"]) # Set(집합)형  집합연산에서 사용한다. (교집합, 합집합등...)\n",
    "print(type(set_7), \" : \", set_7)\n",
    "\n",
    "  "
   ]
  },
  {
   "cell_type": "markdown",
   "metadata": {},
   "source": [
    "#### 연산자"
   ]
  },
  {
   "cell_type": "code",
   "execution_count": null,
   "metadata": {},
   "outputs": [],
   "source": [
    "## 산술 연산자\n",
    "print(10 +  4) # 더하기\n",
    "print(10 -  4) # 빼기\n",
    "print(10 *  4) # 곱하기\n",
    "print(10 ** 4) # 제곱 \n",
    "print(10 /  4) # 나눗셈 (float 타입으로 출력)\n",
    "print(10 // 4) # 나눗셈의 몪(나누는 대상 타입으로)\n",
    "print(10 %  4) # 나눗셈의 나머지(나누는 대상 타입으로)\n",
    "\n",
    "print(\"-------------------\")\n",
    "## 비교 연산자\n",
    "print(\"a\" == \"b\") # == : 같은가?\n",
    "print(\"a\" != \"b\") # != : 다른가? >> 유사한 걸로 <> 연산자도 있다.\n",
    "print(\"a\" > \"b\")  # > : 왼쪽이 오른쪽보다 큰가?\n",
    "print(\"a\" < \"b\")  # < : 왼쪽이 오른쪽보다 작은가?\n",
    "print(\"a\" >= \"b\")  # > : 왼쪽이 오른쪽보다 이상인가?\n",
    "print(\"a\" <= \"b\")  # < : 왼쪽이 오른쪽보다 이하인가?\n",
    "\n",
    "print(\"-------------------\")\n",
    "## 할당 연산자\n",
    "a = 111 # a에 111을 할당한다.\n",
    "a += 11 # a에 11 더한 값을 다시 a에 할당한다. \n",
    "a -= 1 # a에 1 뺀 값을 다시 a에 할당한다. \n",
    "a *= 2 # a에 1을 할당한다.\n",
    "a /= 2 # a의 2를 나눈값을 할당한다. <float>\n",
    "a //= 2 # a에 2를 나눈 값의 몫을 다시 a에 할당한다.\n",
    "a %= 2 # a의 2를 나눈 값의 나머지를 다시 a에 할당한다.\n",
    "a **= 2 # a의 2제곱 한 값을 다시 a에 할당한다.\n",
    "print(a)\n",
    "\n",
    "print(\"-------------------\")\n",
    "## 논리 연산자\n",
    "a = \"a\"\n",
    "print(a == \"a\" and a == \"b\") # == False \n",
    "print(a == \"a\" or a == \"b\") # == True  \n",
    "print(not a==\"A\") # == False \n",
    "\n",
    "## 멤버쉽 연산자 \n",
    "list_a = [3,4,5,6,7]\n",
    "print(3 in list_a) # <list>list_a 에 3은 포함하는가?\n",
    "print(2 not in list_a) #<list>list_a 에 2은 포함하지 않는가?\n",
    "\n",
    "print(\"-------------------\")\n",
    "## 비트 연산자\n",
    "a = 10\n",
    "print(a & 11) # Binary AND\n",
    "print(a | 11) # Binary OR \n",
    "print(a ^ 11) # Binary XOR : 같은 위치의 값이 다른 경우만  1로 출력한다.\n",
    "print(~a) # Binary Ones Complement : 1의 보수\n",
    "print(a<<2) # Binary Left Shift :  0000 1010(10) << 2 ==  0010 1000(40) : 이진수을 왼쪽으로 옮긴다.\n",
    "print(a>>2) # Binary Right Shift : 0000 1010(10) >> 2 ==  0000 0010(2) : 이진수을 오른쪽으로 옮긴다. \n",
    "\n",
    "print(\"-------------------\")\n",
    "## Identity 연산자 : 메모리 객체 비교\n",
    "a = 1\n",
    "b = 1.0\n",
    "print (a == b) # True\n",
    "print (a is b) # False : 동일한 \"객체\"를 보고 있는지 확인한다.\n",
    "print (a is not b) # True : 서로 같지 않은 \"객체\" 를 보고 있는지 확인한다.\n"
   ]
  },
  {
   "cell_type": "markdown",
   "metadata": {},
   "source": [
    "| 우선순위 | 연산자 | 설명 |\n",
    "| -- | - | - |\n",
    "| 1  | (값...), [값...],{키: 값...}, {값...} | 튜플, 리스트, 딕셔너리, 세트 생성|\n",
    "| 2  | x[인덱스], x[인덱스:인덱스], x(인수...), x.속성 | 리스트(튜플) 첨자, 슬라이싱, 함수 호출, 속성 참조 |\n",
    "| 3  | await x | await 표현식 |\n",
    "| 4  | ** | 거듭제곱 |\n",
    "| 5  | +x, -x, ~x | 단항 덧셈(양의 부호), 단항 뺄셈(음의 부호), 비트 NOT |\n",
    "| 6  | *, @, /, //, % | 곱셈, 행렬 곱셈, 나눗셈, 버림 나눗셈, 나머지 |\n",
    "| 7  | +, - | 덧셈, 뺄셈 |\n",
    "| 8  | <<, >> | 비트 시프트 |\n",
    "| 9  | & | 비트 AND |\n",
    "| 10 | ^ | 비트 XOR |\n",
    "| 11 | \\| | 비트 OR |\n",
    "| 12 | in, not in, is, is not, <, <=, >, >=, !=, == | 포함 연산자, 객체 비교 연산자, 비교 연산자 |\n",
    "| 13 | not x |논리 NOT |\n",
    "| 14 | and | 논리 AND |\n",
    "| 15 | or | 논리 OR |\n",
    "| 16 | if else | 조건부 표현식 |\n",
    "| 17 | lambda | 람다 표현식 |"
   ]
  },
  {
   "cell_type": "markdown",
   "metadata": {},
   "source": [
    "#### 숫자형 관련 설명\n"
   ]
  },
  {
   "cell_type": "code",
   "execution_count": null,
   "metadata": {},
   "outputs": [],
   "source": [
    "import math \n",
    "\n",
    "## 내부 모듈 : 반올림\n",
    "print(\"--------\")\n",
    "print(round(3.4444))  # <int>\n",
    "print(round(3.4444,1)) # 소숫점 1재자리까지 출력 : <float>\n",
    "\n",
    "## 올림 : math 외부모듈 \n",
    "print(\"--------\")\n",
    "print(math.ceil(-3.44)) # <int>\n",
    "print(math.ceil(3.44)) # <int>\n",
    "\n",
    "## 내림 : math 외부모듈\n",
    "print(\"--------\")\n",
    "print(math.trunc(3.54)) \n",
    "print(math.trunc(-3.54))\n",
    "print(math.floor(3.54))\n",
    "print(math.floor(-3.54))\n",
    "\n",
    "# 내부모듈 int 형변환은 trunc 내림과 동일한 효과를 낸다\n",
    "print(\"--------\")\n",
    "print(int(3.44))\n",
    "print(int(-3.44))"
   ]
  },
  {
   "cell_type": "markdown",
   "metadata": {},
   "source": [
    "#### 문자열 관련"
   ]
  },
  {
   "cell_type": "code",
   "execution_count": null,
   "metadata": {},
   "outputs": [],
   "source": [
    "## 문자열의 이스케이프 문\n",
    "print(\"_   _\\\"\\\"\\\"_   _\")\n",
    "print(\"_   _\\'\\'\\'_   _\")\n",
    "print(\"_   _\\n\\n\\n_   _\")\n",
    "print(\"_   _\\t\\t\\t_   _\") \n",
    "print(\"_   _\\\\\\\\\\\\_   _\") "
   ]
  },
  {
   "cell_type": "markdown",
   "metadata": {},
   "source": [
    "#### 여러 자료형 간의 차이"
   ]
  },
  {
   "cell_type": "code",
   "execution_count": null,
   "metadata": {},
   "outputs": [],
   "source": [
    "## 형변환 : 형변환이 가능한 변수 타입을 변경한다.\n",
    "### -- 숫자형 및 문자형 --\n",
    "#### int(...) : 정수형(int)으로\n",
    "print(type(int(3.0)), \", \", type(int(\"3\")))\n",
    "print(type(int(3.022))) # 버림\n",
    "\n",
    "#### float(...) : 실수형(float)으로\n",
    "print(type(int(3.0)), \", \", type(int(\"3\")))\n",
    "\n",
    "### str(...) : 문자열(str) 형으로\n",
    "print(type(str(3.0123)), \", \", type(str(3)))"
   ]
  },
  {
   "cell_type": "code",
   "execution_count": null,
   "metadata": {},
   "outputs": [],
   "source": [
    "## 숫자형과 문자열의 + 기호 역할\n",
    "#### \n",
    "print(123 + 234.0) # == 357.0 <float>\n",
    "print(\"aaa\"+\"+++\") # == \"aaa+++\" <str>\n",
    "#print(\"111\" + 222) # 오류\n",
    "print (int(\"111\") + 222) # 자료형을 맞추면 오류가 발생하지 않는다."
   ]
  }
 ],
 "metadata": {
  "kernelspec": {
   "display_name": "Python 3.10.4 32-bit",
   "language": "python",
   "name": "python3"
  },
  "language_info": {
   "codemirror_mode": {
    "name": "ipython",
    "version": 3
   },
   "file_extension": ".py",
   "mimetype": "text/x-python",
   "name": "python",
   "nbconvert_exporter": "python",
   "pygments_lexer": "ipython3",
   "version": "3.10.4"
  },
  "orig_nbformat": 4,
  "vscode": {
   "interpreter": {
    "hash": "39a0033470c94ca9ee8de4d83c2bd1a91ce04aa0435c2d966ba716d572295f9b"
   }
  }
 },
 "nbformat": 4,
 "nbformat_minor": 2
}
